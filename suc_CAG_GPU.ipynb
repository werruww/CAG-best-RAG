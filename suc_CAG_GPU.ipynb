{
  "nbformat": 4,
  "nbformat_minor": 0,
  "metadata": {
    "colab": {
      "private_outputs": true,
      "provenance": [],
      "gpuType": "T4"
    },
    "kernelspec": {
      "name": "python3",
      "display_name": "Python 3"
    },
    "language_info": {
      "name": "python"
    },
    "accelerator": "GPU"
  },
  "cells": [
    {
      "cell_type": "code",
      "execution_count": null,
      "metadata": {
        "id": "Q5MVupyVE5UF"
      },
      "outputs": [],
      "source": []
    },
    {
      "cell_type": "code",
      "execution_count": null,
      "metadata": {
        "id": "KM7AiCf2uga1"
      },
      "outputs": [],
      "source": []
    },
    {
      "cell_type": "code",
      "source": [],
      "metadata": {
        "id": "PlO-5zjEvIgS"
      },
      "execution_count": null,
      "outputs": []
    },
    {
      "cell_type": "markdown",
      "source": [
        "https://github.com/hhhuang/CAG"
      ],
      "metadata": {
        "id": "NGF0k42K8mQc"
      }
    },
    {
      "cell_type": "code",
      "source": [
        "!git clone https://github.com/hhhuang/CAG.git"
      ],
      "metadata": {
        "id": "h8G_L85SvIjB"
      },
      "execution_count": null,
      "outputs": []
    },
    {
      "cell_type": "code",
      "source": [
        "%cd CAG"
      ],
      "metadata": {
        "id": "tBJwVAvHvLGT"
      },
      "execution_count": null,
      "outputs": []
    },
    {
      "cell_type": "code",
      "source": [
        "!pip install -r ./requirements.txt"
      ],
      "metadata": {
        "id": "5EQ5xLiqvSMA"
      },
      "execution_count": null,
      "outputs": []
    },
    {
      "cell_type": "code",
      "source": [
        "!cp /content/CAG/.env.template /content/CAG/.env"
      ],
      "metadata": {
        "id": "uA_UzQWCvSnY"
      },
      "execution_count": null,
      "outputs": []
    },
    {
      "cell_type": "code",
      "source": [
        "%cd /content/CAG\n",
        "!sh ./downloads.sh"
      ],
      "metadata": {
        "id": "g5ZnuCAiwpxi"
      },
      "execution_count": null,
      "outputs": []
    },
    {
      "cell_type": "code",
      "source": [
        "!python ./kvcache.py --kvcache file --dataset \"squad-train\" --similarity bertscore \\\n",
        "    --maxKnowledge 5 --maxParagraph 100 --maxQuestion 1000  \\\n",
        "    --modelname \"meta-llama/Llama-3.2-1B-Instruct\" --randomSeed 0 \\\n",
        "    --output \"./result_kvcache.txt\""
      ],
      "metadata": {
        "id": "I2ImeG0OwycZ"
      },
      "execution_count": null,
      "outputs": []
    },
    {
      "source": [
        "import torch\n",
        "import torchvision\n",
        "\n",
        "print(f\"Torch version: {torch.__version__}\")\n",
        "print(f\"Torchvision version: {torchvision.__version__}\")"
      ],
      "cell_type": "code",
      "metadata": {
        "id": "qqlduHUzxgG7"
      },
      "execution_count": null,
      "outputs": []
    },
    {
      "cell_type": "code",
      "source": [
        "!pip install torch==2.5.1 torchvision==0.20.1 torchaudio==2.5.1 --index-url https://download.pytorch.org/whl/cu124\n",
        "# CPU only"
      ],
      "metadata": {
        "id": "P3BAqQHoxDMB"
      },
      "execution_count": null,
      "outputs": []
    },
    {
      "cell_type": "code",
      "source": [
        "!python ./kvcache.py -h"
      ],
      "metadata": {
        "id": "WEYj1vTWXHAr"
      },
      "execution_count": null,
      "outputs": []
    },
    {
      "cell_type": "code",
      "source": [
        "!pip install torch==2.5.1 torchvision==0.20.1 torchaudio==2.5.1 --index-url https://download.pytorch.org/whl/cpu"
      ],
      "metadata": {
        "id": "TCDJVUgKXINm"
      },
      "execution_count": null,
      "outputs": []
    },
    {
      "cell_type": "code",
      "source": [
        "!pip uninstall torch torchvision torchaudio"
      ],
      "metadata": {
        "id": "yavLAcgdYark"
      },
      "execution_count": null,
      "outputs": []
    },
    {
      "cell_type": "code",
      "source": [],
      "metadata": {
        "id": "zm744kVhYoQq"
      },
      "execution_count": null,
      "outputs": []
    },
    {
      "cell_type": "code",
      "source": [
        "%cd /content/CAG\n",
        "!python ./kvcache.py --kvcache file --dataset \"squad-train\" --similarity bertscore \\\n",
        "    --maxKnowledge 1 --maxParagraph 1 --maxQuestion 1 \\\n",
        "    --modelname \"meta-llama/Llama-3.2-1B-Instruct\" --randomSeed 0 \\\n",
        "    --output \"./result_kvcache.txt\""
      ],
      "metadata": {
        "id": "hxx_IZ4pxzRs"
      },
      "execution_count": null,
      "outputs": []
    },
    {
      "cell_type": "code",
      "source": [
        "/content/CAG/result_kvcache.txt\n",
        "\n",
        "KVcache prepared in 0.7992591857910156 seconds\n",
        "[0]: Semantic Similarity: 0.09896,\t cache time: 7.152557373046875e-07,\t generate time: 0.13470172882080078\n",
        "[0]: [Cumulative]: Semantic Similarity: 0.09896,\t cache time: 7.152557373046875e-07,\t generate time: 0.13470172882080078\n",
        "\n",
        "Result for ./result_kvcache.txt\n",
        "Prepare time: 0.7992591857910156\n",
        "Average Semantic Similarity: 0.0989607721567154\n",
        "cache time: 7.152557373046875e-07,\t generate time: 0.13470172882080078"
      ],
      "metadata": {
        "id": "dn1-DnLrdTBX"
      },
      "execution_count": null,
      "outputs": []
    },
    {
      "cell_type": "code",
      "source": [
        "%cd /content/CAG\n",
        "!python ./kvcache.py --kvcache file --dataset \"squad-train\" --similarity bertscore \\\n",
        "    --maxKnowledge 5 --maxParagraph 100 --maxQuestion 1000  \\\n",
        "    --modelname \"meta-llama/Llama-3.2-1B-Instruct\" --randomSeed 0 \\\n",
        "    --output \"./result_kvcache.txt\""
      ],
      "metadata": {
        "id": "6gbCRt0mdlv0"
      },
      "execution_count": null,
      "outputs": []
    },
    {
      "cell_type": "code",
      "source": [
        "\n",
        "\n",
        "!python ./kvcache.py --kvcache file --dataset \"squad-train\" --similarity bertscore \\\n",
        "    --maxKnowledge 5 --maxParagraph 100 --maxQuestion 1000  \\\n",
        "    --modelname \"meta-llama/Llama-3.1-8B-Instruct\" --randomSeed 0 \\\n",
        "    --output \"./result_kvcache.txt\""
      ],
      "metadata": {
        "id": "DPsXdyP7dst8"
      },
      "execution_count": null,
      "outputs": []
    }
  ]
}